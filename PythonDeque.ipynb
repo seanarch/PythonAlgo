{
 "cells": [
  {
   "cell_type": "markdown",
   "id": "20231e9c",
   "metadata": {},
   "source": [
    "### Array"
   ]
  },
  {
   "cell_type": "code",
   "execution_count": 1,
   "id": "a14b1c42",
   "metadata": {},
   "outputs": [
    {
     "name": "stdout",
     "output_type": "stream",
     "text": [
      "[0, 0, 0, 0, 0, 0, 0, 0, 0, 0]\n"
     ]
    }
   ],
   "source": [
    "arr = [0] * 10\n",
    "print(arr)"
   ]
  },
  {
   "cell_type": "markdown",
   "id": "f9cdedb9",
   "metadata": {},
   "source": [
    "### Dynamic array"
   ]
  },
  {
   "cell_type": "code",
   "execution_count": 3,
   "id": "91654ca1",
   "metadata": {},
   "outputs": [
    {
     "name": "stdout",
     "output_type": "stream",
     "text": [
      "[0]\n"
     ]
    }
   ],
   "source": [
    "l = []\n",
    "l.append(0)\n",
    "print(l)"
   ]
  },
  {
   "cell_type": "markdown",
   "id": "41f103d3",
   "metadata": {},
   "source": [
    "### Linked List"
   ]
  },
  {
   "cell_type": "code",
   "execution_count": 7,
   "id": "8c655c60",
   "metadata": {},
   "outputs": [
    {
     "name": "stdout",
     "output_type": "stream",
     "text": [
      "deque([7])\n",
      "7\n"
     ]
    }
   ],
   "source": [
    "from collections import deque \n",
    "\n",
    "l = deque()\n",
    "l.appendleft(7)\n",
    "print(l)\n",
    "print(l[0])"
   ]
  },
  {
   "cell_type": "code",
   "execution_count": 8,
   "id": "01b771fa",
   "metadata": {},
   "outputs": [
    {
     "name": "stdout",
     "output_type": "stream",
     "text": [
      "deque([])\n"
     ]
    }
   ],
   "source": [
    "l.popleft()\n",
    "print(l)"
   ]
  },
  {
   "cell_type": "markdown",
   "id": "3fa52861",
   "metadata": {},
   "source": [
    "### Double linked list"
   ]
  },
  {
   "cell_type": "code",
   "execution_count": 12,
   "id": "8920a209",
   "metadata": {},
   "outputs": [
    {
     "data": {
      "text/plain": [
       "7"
      ]
     },
     "execution_count": 12,
     "metadata": {},
     "output_type": "execute_result"
    }
   ],
   "source": [
    "from collections import deque \n",
    "\n",
    "q = deque()\n",
    "# insert at tail, time complexity O(1)\n",
    "q.append(7)\n",
    "# access tail, time complexity O(1)\n",
    "q[-1]\n",
    "# remove tail, time complexity O(1)\n",
    "q.pop()\n",
    "# insert at head, time complexity O(1)\n",
    "q.appendleft(7)\n",
    "# access head, time complexity O(1)\n",
    "q[0]\n",
    "# remove head, time complexity O(1)\n",
    "q.popleft()"
   ]
  },
  {
   "cell_type": "markdown",
   "id": "12b5296f",
   "metadata": {},
   "source": [
    "### Stack"
   ]
  },
  {
   "cell_type": "code",
   "execution_count": 13,
   "id": "1a894356",
   "metadata": {},
   "outputs": [
    {
     "data": {
      "text/plain": [
       "7"
      ]
     },
     "execution_count": 13,
     "metadata": {},
     "output_type": "execute_result"
    }
   ],
   "source": [
    "s = deque()\n",
    "s.append(7)\n",
    "s[-1]\n",
    "s.pop()"
   ]
  },
  {
   "cell_type": "code",
   "execution_count": 14,
   "id": "5222af9f",
   "metadata": {},
   "outputs": [
    {
     "name": "stdout",
     "output_type": "stream",
     "text": [
      "deque([])\n",
      "<class 'collections.deque'>\n",
      "deque(['m', 'n'])\n"
     ]
    }
   ],
   "source": [
    "d = deque()\n",
    "print(d)\n",
    "# deque([])\n",
    "\n",
    "print(type(d))\n",
    "# <class 'collections.deque'>\n",
    "\n",
    "d = deque(['m', 'n'])\n",
    "print(d)\n",
    "# deque(['m', 'n'])"
   ]
  },
  {
   "cell_type": "code",
   "execution_count": 15,
   "id": "407b6878",
   "metadata": {},
   "outputs": [
    {
     "name": "stdout",
     "output_type": "stream",
     "text": [
      "deque(['m', 'n', 'o'])\n",
      "deque(['l', 'm', 'n', 'o'])\n"
     ]
    }
   ],
   "source": [
    "d.append('o')\n",
    "print(d)\n",
    "# deque(['m', 'n', 'o'])\n",
    "\n",
    "d.appendleft('l')\n",
    "print(d)\n",
    "# deque(['l', 'm', 'n', 'o'])"
   ]
  },
  {
   "cell_type": "code",
   "execution_count": 16,
   "id": "f4a7be7a",
   "metadata": {},
   "outputs": [
    {
     "name": "stdout",
     "output_type": "stream",
     "text": [
      "deque(['l', 'm', 'n', 'o', 'p', 'q'])\n",
      "deque(['j', 'k', 'l', 'm', 'n', 'o', 'p', 'q'])\n"
     ]
    }
   ],
   "source": [
    "d.extend(['p', 'q'])\n",
    "print(d)\n",
    "# deque(['l', 'm', 'n', 'o', 'p', 'q'])\n",
    "\n",
    "d.extendleft(['k', 'j'])\n",
    "print(d)\n",
    "# deque(['j', 'k', 'l', 'm', 'n', 'o', 'p', 'q'])"
   ]
  },
  {
   "cell_type": "code",
   "execution_count": 17,
   "id": "3d9c6c90",
   "metadata": {},
   "outputs": [
    {
     "name": "stdout",
     "output_type": "stream",
     "text": [
      "deque(['j', 'k', 'l', 'XXX', 'm', 'n', 'o', 'p', 'q'])\n",
      "deque(['j', 'k', 'l', 'XXX', 'm', 'n', 'o', 'p', 'YYY', 'q'])\n",
      "deque(['j', 'k', 'l', 'XXX', 'm', 'n', 'o', 'p', 'YYY', 'q', 'ZZZ'])\n",
      "deque(['XYZ', 'j', 'k', 'l', 'XXX', 'm', 'n', 'o', 'p', 'YYY', 'q', 'ZZZ'])\n"
     ]
    }
   ],
   "source": [
    "d.insert(3, 'XXX')\n",
    "print(d)\n",
    "# deque(['j', 'k', 'l', 'XXX', 'm', 'n', 'o', 'p', 'q'])\n",
    "\n",
    "d.insert(-1, 'YYY')\n",
    "print(d)\n",
    "# deque(['j', 'k', 'l', 'XXX', 'm', 'n', 'o', 'p', 'YYY', 'q'])\n",
    "\n",
    "d.insert(100, 'ZZZ')\n",
    "print(d)\n",
    "# deque(['j', 'k', 'l', 'XXX', 'm', 'n', 'o', 'p', 'YYY', 'q', 'ZZZ'])\n",
    "\n",
    "d.insert(-100, 'XYZ')\n",
    "print(d)\n",
    "# deque(['XYZ', 'j', 'k', 'l', 'XXX', 'm', 'n', 'o', 'p', 'YYY', 'q', 'ZZZ'])"
   ]
  },
  {
   "cell_type": "code",
   "execution_count": 19,
   "id": "41505768",
   "metadata": {},
   "outputs": [
    {
     "name": "stdout",
     "output_type": "stream",
     "text": [
      "deque(['YYY', 'XXX', 'XYZ', 'XYZ', 'j', 'k', 'l', 'XXX', 'm', 'n', 'o', 'p', 'YYY', 'q', 'ZZZ'])\n"
     ]
    }
   ],
   "source": [
    "d.insert(-98, 'XXX')\n",
    "d.insert(-90, 'YYY')\n",
    "print(d)"
   ]
  },
  {
   "cell_type": "code",
   "execution_count": 22,
   "id": "65831385",
   "metadata": {},
   "outputs": [
    {
     "name": "stdout",
     "output_type": "stream",
     "text": [
      "d\n",
      "deque(['a', 'b', 'c', 'b'])\n",
      "a\n",
      "deque(['b', 'c', 'b'])\n"
     ]
    }
   ],
   "source": [
    "d = deque(['a', 'b', 'c', 'b', 'd'])\n",
    "\n",
    "print(d.pop())\n",
    "# d\n",
    "\n",
    "print(d)\n",
    "# deque(['a', 'b', 'c', 'b'])\n",
    "\n",
    "print(d.popleft())\n",
    "# a\n",
    "\n",
    "print(d)\n",
    "# deque(['b', 'c', 'b'])"
   ]
  },
  {
   "cell_type": "code",
   "execution_count": 24,
   "id": "e3472111",
   "metadata": {},
   "outputs": [
    {
     "name": "stdout",
     "output_type": "stream",
     "text": [
      "deque(['c'])\n"
     ]
    }
   ],
   "source": [
    "d.remove('b')\n",
    "print(d)\n",
    "# deque(['c', 'b'])"
   ]
  },
  {
   "cell_type": "code",
   "execution_count": 25,
   "id": "5c006ff1",
   "metadata": {},
   "outputs": [
    {
     "name": "stdout",
     "output_type": "stream",
     "text": [
      "deque([])\n"
     ]
    }
   ],
   "source": [
    "d.clear()\n",
    "print(d)"
   ]
  },
  {
   "cell_type": "markdown",
   "id": "a1111a03",
   "metadata": {},
   "source": [
    "### Rotate\n",
    "\n",
    "By default, elements are rotated one by one to the right."
   ]
  },
  {
   "cell_type": "code",
   "execution_count": 26,
   "id": "0344d911",
   "metadata": {},
   "outputs": [
    {
     "name": "stdout",
     "output_type": "stream",
     "text": [
      "deque(['e', 'a', 'b', 'c', 'd'])\n"
     ]
    }
   ],
   "source": [
    "d = deque(['a', 'b', 'c', 'd', 'e'])\n",
    "d.rotate()\n",
    "print(d)\n",
    "# deque(['e', 'a', 'b', 'c', 'd'])"
   ]
  },
  {
   "cell_type": "code",
   "execution_count": 27,
   "id": "bf867818",
   "metadata": {},
   "outputs": [
    {
     "name": "stdout",
     "output_type": "stream",
     "text": [
      "deque(['d', 'e', 'a', 'b', 'c'])\n",
      "deque(['b', 'c', 'd', 'e', 'a'])\n",
      "deque(['e', 'a', 'b', 'c', 'd'])\n"
     ]
    }
   ],
   "source": [
    "d = deque(['a', 'b', 'c', 'd', 'e'])\n",
    "d.rotate(2)\n",
    "print(d)\n",
    "# deque(['d', 'e', 'a', 'b', 'c'])\n",
    "\n",
    "d = deque(['a', 'b', 'c', 'd', 'e'])\n",
    "d.rotate(-1)\n",
    "print(d)\n",
    "# deque(['b', 'c', 'd', 'e', 'a'])\n",
    "\n",
    "d = deque(['a', 'b', 'c', 'd', 'e'])\n",
    "d.rotate(6)\n",
    "print(d)\n",
    "# deque(['e', 'a', 'b', 'c', 'd'])"
   ]
  },
  {
   "cell_type": "code",
   "execution_count": 29,
   "id": "f820b66b",
   "metadata": {},
   "outputs": [
    {
     "name": "stdout",
     "output_type": "stream",
     "text": [
      "a\n",
      "e\n",
      "deque(['a', 'b', 'X', 'd', 'e'])\n",
      "deque(['X', 'd'])\n"
     ]
    }
   ],
   "source": [
    "d = deque(['a', 'b', 'c', 'd', 'e'])\n",
    "print(d[0])\n",
    "# a\n",
    "\n",
    "print(d[-1])\n",
    "# e\n",
    "\n",
    "d[2] = 'X'\n",
    "print(d)\n",
    "# deque(['a', 'b', 'X', 'd', 'e'])\n",
    "\n",
    "# print(d[2:4])\n",
    "# TypeError: sequence index must be integer, not 'slice'\n",
    "\n",
    "import itertools\n",
    "\n",
    "print(deque(itertools.islice(d, 2, 4)))\n",
    "# deque(['X', 'd'])"
   ]
  },
  {
   "cell_type": "code",
   "execution_count": 30,
   "id": "b9ccb997",
   "metadata": {},
   "outputs": [
    {
     "name": "stdout",
     "output_type": "stream",
     "text": [
      "1\n",
      "0\n"
     ]
    }
   ],
   "source": [
    "print(d.count('a'))\n",
    "# 2\n",
    "\n",
    "print(d.count('x'))\n",
    "# 0"
   ]
  },
  {
   "cell_type": "code",
   "execution_count": 31,
   "id": "056e518f",
   "metadata": {},
   "outputs": [
    {
     "name": "stdout",
     "output_type": "stream",
     "text": [
      "True\n",
      "False\n"
     ]
    }
   ],
   "source": [
    "print('b' in d)\n",
    "# True\n",
    "\n",
    "print('x' in d)\n",
    "# False"
   ]
  },
  {
   "cell_type": "markdown",
   "id": "4ff88885",
   "metadata": {},
   "source": [
    "### Reverse a list"
   ]
  },
  {
   "cell_type": "code",
   "execution_count": 32,
   "id": "366a4baa",
   "metadata": {},
   "outputs": [
    {
     "name": "stdout",
     "output_type": "stream",
     "text": [
      "deque(['e', 'd', 'c', 'b', 'a'])\n",
      "deque(['e', 'd', 'c', 'b', 'a'])\n"
     ]
    }
   ],
   "source": [
    "d = deque(['a', 'b', 'c', 'd', 'e'])\n",
    "d.reverse()\n",
    "print(d)\n",
    "# deque(['e', 'd', 'c', 'b', 'a'])\n",
    "\n",
    "d = deque(['a', 'b', 'c', 'd', 'e'])\n",
    "print(deque(reversed(d)))\n",
    "# deque(['e', 'd', 'c', 'b', 'a'])"
   ]
  },
  {
   "cell_type": "markdown",
   "id": "76242bfa",
   "metadata": {},
   "source": [
    "### Convert list and tuple"
   ]
  },
  {
   "cell_type": "code",
   "execution_count": 33,
   "id": "100ae2f3",
   "metadata": {},
   "outputs": [
    {
     "name": "stdout",
     "output_type": "stream",
     "text": [
      "['a', 'b', 'c']\n",
      "<class 'list'>\n"
     ]
    }
   ],
   "source": [
    "d = deque(['a', 'b', 'c'])\n",
    "\n",
    "l = list(d)\n",
    "print(l)\n",
    "# ['a', 'b', 'c']\n",
    "\n",
    "print(type(l))\n",
    "# <class 'list'>"
   ]
  },
  {
   "cell_type": "markdown",
   "id": "3232ec3c",
   "metadata": {},
   "source": [
    "### Limit max length"
   ]
  },
  {
   "cell_type": "code",
   "execution_count": 34,
   "id": "f2425c56",
   "metadata": {},
   "outputs": [
    {
     "name": "stdout",
     "output_type": "stream",
     "text": [
      "deque(['l', 'm', 'n'], maxlen=3)\n"
     ]
    }
   ],
   "source": [
    "d = deque(['l', 'm', 'n'], 3)\n",
    "print(d)\n",
    "# deque(['l', 'm', 'n'], maxlen=3)"
   ]
  },
  {
   "cell_type": "code",
   "execution_count": 35,
   "id": "c4df8676",
   "metadata": {},
   "outputs": [
    {
     "name": "stdout",
     "output_type": "stream",
     "text": [
      "deque(['m', 'n', 'o'], maxlen=3)\n",
      "deque(['l', 'm', 'n'], maxlen=3)\n",
      "deque(['n', 'o', 'p'], maxlen=3)\n",
      "deque(['l', 'm', 'n'], maxlen=3)\n"
     ]
    }
   ],
   "source": [
    "d.append('o')\n",
    "print(d)\n",
    "# deque(['m', 'n', 'o'], maxlen=3)\n",
    "\n",
    "d.appendleft('l')\n",
    "print(d)\n",
    "# deque(['l', 'm', 'n'], maxlen=3)\n",
    "\n",
    "d.extend(['o', 'p'])\n",
    "print(d)\n",
    "# deque(['n', 'o', 'p'], maxlen=3)\n",
    "\n",
    "d.extendleft(['m', 'l'])\n",
    "print(d)\n",
    "# deque(['l', 'm', 'n'], maxlen=3)"
   ]
  },
  {
   "cell_type": "markdown",
   "id": "2830ee17",
   "metadata": {},
   "source": [
    "With insert(), an error is raised even when adding to the end. \n",
    "\n",
    "If the number of elements does not reach maxlen, it can be added with insert()."
   ]
  },
  {
   "cell_type": "code",
   "execution_count": 36,
   "id": "e59e50b4",
   "metadata": {},
   "outputs": [
    {
     "name": "stdout",
     "output_type": "stream",
     "text": [
      "n\n",
      "deque(['l', 'm'], maxlen=3)\n",
      "deque(['l', 'XXX', 'm'], maxlen=3)\n"
     ]
    }
   ],
   "source": [
    "print(d.pop())\n",
    "# n\n",
    "\n",
    "print(d)\n",
    "# deque(['l', 'm'], maxlen=3)\n",
    "\n",
    "d.insert(1, 'XXX')\n",
    "print(d)\n",
    "# deque(['l', 'XXX', 'm'], maxlen=3)"
   ]
  },
  {
   "cell_type": "markdown",
   "id": "cef9fb17",
   "metadata": {},
   "source": [
    "The maxlen can be obtained as an attribute, but it is read-only and cannot be changed."
   ]
  },
  {
   "cell_type": "code",
   "execution_count": null,
   "id": "1e6af9cb",
   "metadata": {},
   "outputs": [],
   "source": []
  }
 ],
 "metadata": {
  "kernelspec": {
   "display_name": "Python 3 (ipykernel)",
   "language": "python",
   "name": "python3"
  },
  "language_info": {
   "codemirror_mode": {
    "name": "ipython",
    "version": 3
   },
   "file_extension": ".py",
   "mimetype": "text/x-python",
   "name": "python",
   "nbconvert_exporter": "python",
   "pygments_lexer": "ipython3",
   "version": "3.9.12"
  }
 },
 "nbformat": 4,
 "nbformat_minor": 5
}
